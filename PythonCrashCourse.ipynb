{
  "cells": [
    {
      "cell_type": "markdown",
      "metadata": {
        "id": "view-in-github",
        "colab_type": "text"
      },
      "source": [
        "<a href=\"https://colab.research.google.com/github/nielsboogaard/pythoncrashcourse/blob/main/PythonCrashCourse.ipynb\" target=\"_parent\"><img src=\"https://colab.research.google.com/assets/colab-badge.svg\" alt=\"Open In Colab\"/></a>"
      ]
    },
    {
      "cell_type": "markdown",
      "source": [
        "# Python crash course"
      ],
      "metadata": {
        "datalore": {
          "type": "MD",
          "hide_input_from_viewers": false,
          "hide_output_from_viewers": false
        },
        "id": "4Fpunzu-CJk3"
      }
    },
    {
      "cell_type": "markdown",
      "source": [
        "Welcome to the most basic and incomplete Python crash course. This part just teaches you the basics of the Python language that you need to work with the assignment later on. If you get stuck, google is your friend. I personally like this cheat sheet: https://www.pythoncheatsheet.org.\n",
        "\n",
        "The first thing to do is to write a line that prints out \"Hello World!\".\n",
        "\n",
        "TIP\n",
        "To print, you need the python command *print*"
      ],
      "metadata": {
        "datalore": {
          "type": "MD",
          "hide_input_from_viewers": false,
          "hide_output_from_viewers": false
        },
        "id": "MoPQEjDSCJk4"
      }
    },
    {
      "cell_type": "code",
      "source": [
        "print(\"Hello World!\")"
      ],
      "execution_count": 2,
      "outputs": [
        {
          "output_type": "stream",
          "name": "stdout",
          "text": [
            "Hello World!\n"
          ]
        }
      ],
      "metadata": {
        "datalore": {
          "type": "CODE",
          "hide_input_from_viewers": false,
          "hide_output_from_viewers": false
        },
        "colab": {
          "base_uri": "https://localhost:8080/"
        },
        "id": "xhfU2f_YCJk5",
        "outputId": "3c05a4d1-db1b-43b9-cb4a-4b85a3916d91"
      }
    },
    {
      "cell_type": "markdown",
      "source": [
        "Use the next code window to accomplish the following steps:\n",
        "- Create a loop that prints \"Hello World!\" 5 times and prepend each line with the counter (TIP: use *for* and *range* and *print(f'text {code}'*)\n",
        "- Move the loop into a separate function and call the function. (TIP: use *def*)\n",
        "- Pass a parameter to the function that is used to print the messages the specified number of times\n",
        "- Replace the hard coded \"Hello World\" message with a parameter containing the message"
      ],
      "metadata": {
        "datalore": {
          "type": "MD",
          "hide_input_from_viewers": false,
          "hide_output_from_viewers": false
        },
        "id": "hJCaM8FHCJk6"
      }
    },
    {
      "cell_type": "code",
      "source": [
        "def printMsg(msg, amount):\n",
        "  for i in range(amount):\n",
        "    print(f'{i} {msg}')\n",
        "\n",
        "printMsg('Hello World!', 5)"
      ],
      "execution_count": 10,
      "outputs": [
        {
          "output_type": "stream",
          "name": "stdout",
          "text": [
            "0 Hello World!\n",
            "1 Hello World!\n",
            "2 Hello World!\n",
            "3 Hello World!\n",
            "4 Hello World!\n"
          ]
        }
      ],
      "metadata": {
        "datalore": {
          "type": "CODE",
          "hide_input_from_viewers": false,
          "hide_output_from_viewers": false
        },
        "colab": {
          "base_uri": "https://localhost:8080/"
        },
        "id": "v82mKzO8CJk6",
        "outputId": "6fee7c75-d612-4c6a-a479-768edaa315a8"
      }
    },
    {
      "cell_type": "markdown",
      "source": [
        "In the next code block, we start working with lists. Lists are very powerful, still libraries like **numpy** add a lot of advanced features to lists. Use the next code window to accomplish the following tasks:\n",
        "- Import the numpy library with the line *import numpy as np*\n",
        "- Create a list containing the numbers 1 to 10 and print them (TIP use *list* and *range*)\n",
        "- Create a new list containing 10 random numbers between 0 and 100 and print them (TIP use *numpy.random.randint*)\n",
        "- Calculate the average of the created list in the previous step"
      ],
      "metadata": {
        "datalore": {
          "type": "MD",
          "hide_input_from_viewers": false,
          "hide_output_from_viewers": false
        },
        "id": "qeiKtBriCJk6"
      }
    },
    {
      "cell_type": "code",
      "source": [
        "import numpy as np\n",
        "\n",
        "def calculateAverage(list): \n",
        "    avg = sum(list) / len(list) \n",
        "    return avg;\n",
        "\n",
        "randomList = np.random.randint(low=0,high=100, size=10)\n",
        "print(randomList)\n",
        "print(f'Average is {calculateAverage(randomList)}');\n"
      ],
      "execution_count": 32,
      "outputs": [
        {
          "output_type": "stream",
          "name": "stdout",
          "text": [
            "[90 11 78 67 53 36 66 84 94 61]\n",
            "Average is 64.0\n"
          ]
        }
      ],
      "metadata": {
        "datalore": {
          "type": "CODE",
          "hide_input_from_viewers": false,
          "hide_output_from_viewers": false
        },
        "colab": {
          "base_uri": "https://localhost:8080/"
        },
        "id": "BNew6sbgCJk7",
        "outputId": "bbe5c9aa-caf8-494e-90ab-603d64c21009"
      }
    },
    {
      "cell_type": "markdown",
      "source": [
        "The multi dimensional list contains the numbers 1 to 9 in text. Can you create a one dimensional list from the provided multi dimensional list and print the list?\n",
        "\n",
        "The following line defines the input:\n",
        "\n",
        "`some_numbers = [[\"one\", \"two\", \"three\", \"four\"], [\"five\", \"six\"], [\"seven\", \"eight\", \"nine\"]]`\n",
        "\n",
        "Tip: with `for sub in something` you can iterate all items in something"
      ],
      "metadata": {
        "datalore": {
          "type": "MD",
          "hide_input_from_viewers": false,
          "hide_output_from_viewers": false
        },
        "id": "4Ss-cd37CJk7"
      }
    },
    {
      "cell_type": "code",
      "source": [
        "some_numbers = [[\"one\", \"two\", \"three\", \"four\"], [\"five\", \"six\"], [\"seven\", \"eight\", \"nine\"]]\n",
        "\n",
        "flattened = []\n",
        "\n",
        "for subList in some_numbers:\n",
        "  for item in subList:\n",
        "      flattened.append(item)\n",
        "\n",
        "flattened"
      ],
      "execution_count": 35,
      "outputs": [
        {
          "output_type": "execute_result",
          "data": {
            "text/plain": [
              "['one', 'two', 'three', 'four', 'five', 'six', 'seven', 'eight', 'nine']"
            ]
          },
          "metadata": {},
          "execution_count": 35
        }
      ],
      "metadata": {
        "datalore": {
          "type": "CODE",
          "hide_input_from_viewers": false,
          "hide_output_from_viewers": false
        },
        "colab": {
          "base_uri": "https://localhost:8080/"
        },
        "id": "M5ygzfMeCJk8",
        "outputId": "ae37d609-00ce-4e30-f1e3-2290906f5429"
      }
    },
    {
      "cell_type": "markdown",
      "source": [
        "Next we will start using one of the most popular Python libraries around: Pandas. Pandas can best be compared to excel. You have rows and columns, can add filters, macros, etc. You cannot learn about machine learning without using pandas.\n",
        "\n",
        "If you are here after listening to my introduction, you should be familiar with the following sample. It has to do with a story about a broken washing machine and deciding about what washing machine to buy. The amount of data is very limited. But we can work on some important aspects.\n",
        "```\n",
        "washingmachine_data = {\n",
        "    \"ID\" : [\"M-20220-1\", \"AEG-20010-9\", \"M-20210-3\", \"B-20221-7\"],\n",
        "    \"Brand\" : [\"Miele\", \"AEG\",  \"Miele\", \"Bosch\"],\n",
        "    \"Price\" : [1269, 653, 923, 950],\n",
        "    \"Load Capacity\": [\"8 kg\", \"9 kg\", \"6 kg\", \"8 kg\"],\n",
        "    \"Drying result\": [\"B\", \"C\", \"B\", \"B\"],\n",
        "    \"Sound level\": [\"70 dB\", \"68 dB\", \"69 dB\", \"70 dB\"],\n",
        "    \"WiFi\": [True, False, False, False],\n",
        "    \"Energy label\":  [\"A\", \"B\", \"A\", \"A\"],\n",
        "    \"Automated dispensing\": [True, True, False, True],\n",
        "    \"Rating\": [\"5 stars\", \"3 stars\", \"4 stars\" \"5 stars\"]\n",
        "}\n",
        "```\n",
        "Using the pandas library, try out the following excercises:\n",
        "- Show the first two rows of the data using the head function\n",
        "- Show the names of the columns of the data\n",
        "- Filter the data to only find washing machines from *Miele*"
      ],
      "metadata": {
        "datalore": {
          "type": "MD",
          "hide_input_from_viewers": false,
          "hide_output_from_viewers": false
        },
        "id": "-l1Pi1WFCJk8"
      }
    },
    {
      "cell_type": "code",
      "source": [
        "washingmachine_data = {\n",
        "    \"ID\" : [\"M-20220-1\", \"AEG-20010-9\", \"M-20210-3\", \"B-20221-7\"],\n",
        "    \"Brand\" : [\"Miele\", \"AEG\",  \"Miele\", \"Bosch\"],\n",
        "    \"Price\" : [1269, 653, 923, 950],\n",
        "    \"Load Capacity\": [\"8 kg\", \"9 kg\", \"6 kg\", \"8 kg\"],\n",
        "    \"Drying result\": [\"B\", \"C\", \"B\", \"B\"],\n",
        "    \"Sound level\": [\"70 dB\", \"68 dB\", \"69 dB\", \"70 dB\"],\n",
        "    \"WiFi\": [True, False, False, False],\n",
        "    \"Energy label\":  [\"A\", \"B\", \"A\", \"A\"],\n",
        "    \"Automated dispensing\": [True, True, False, True],\n",
        "    \"Rating\": [\"5 stars\", \"3 stars\", \"4 stars\", \"5 stars\"]\n",
        "}\n",
        "               \n",
        "import pandas as pd\n",
        "\n",
        "washingmachines = pd.DataFrame(washingmachine_data)"
      ],
      "execution_count": 43,
      "outputs": [
        {
          "output_type": "execute_result",
          "data": {
            "text/plain": [
              "          ID  Brand  Price Load Capacity Drying result Sound level   WiFi  \\\n",
              "0  M-20220-1  Miele   1269          8 kg             B       70 dB   True   \n",
              "2  M-20210-3  Miele    923          6 kg             B       69 dB  False   \n",
              "\n",
              "  Energy label  Automated dispensing   Rating  \n",
              "0            A                  True  5 stars  \n",
              "2            A                 False  4 stars  "
            ],
            "text/html": [
              "\n",
              "  <div id=\"df-71441784-1610-4bf5-8bb8-c9c78ef2dd22\">\n",
              "    <div class=\"colab-df-container\">\n",
              "      <div>\n",
              "<style scoped>\n",
              "    .dataframe tbody tr th:only-of-type {\n",
              "        vertical-align: middle;\n",
              "    }\n",
              "\n",
              "    .dataframe tbody tr th {\n",
              "        vertical-align: top;\n",
              "    }\n",
              "\n",
              "    .dataframe thead th {\n",
              "        text-align: right;\n",
              "    }\n",
              "</style>\n",
              "<table border=\"1\" class=\"dataframe\">\n",
              "  <thead>\n",
              "    <tr style=\"text-align: right;\">\n",
              "      <th></th>\n",
              "      <th>ID</th>\n",
              "      <th>Brand</th>\n",
              "      <th>Price</th>\n",
              "      <th>Load Capacity</th>\n",
              "      <th>Drying result</th>\n",
              "      <th>Sound level</th>\n",
              "      <th>WiFi</th>\n",
              "      <th>Energy label</th>\n",
              "      <th>Automated dispensing</th>\n",
              "      <th>Rating</th>\n",
              "    </tr>\n",
              "  </thead>\n",
              "  <tbody>\n",
              "    <tr>\n",
              "      <th>0</th>\n",
              "      <td>M-20220-1</td>\n",
              "      <td>Miele</td>\n",
              "      <td>1269</td>\n",
              "      <td>8 kg</td>\n",
              "      <td>B</td>\n",
              "      <td>70 dB</td>\n",
              "      <td>True</td>\n",
              "      <td>A</td>\n",
              "      <td>True</td>\n",
              "      <td>5 stars</td>\n",
              "    </tr>\n",
              "    <tr>\n",
              "      <th>2</th>\n",
              "      <td>M-20210-3</td>\n",
              "      <td>Miele</td>\n",
              "      <td>923</td>\n",
              "      <td>6 kg</td>\n",
              "      <td>B</td>\n",
              "      <td>69 dB</td>\n",
              "      <td>False</td>\n",
              "      <td>A</td>\n",
              "      <td>False</td>\n",
              "      <td>4 stars</td>\n",
              "    </tr>\n",
              "  </tbody>\n",
              "</table>\n",
              "</div>\n",
              "      <button class=\"colab-df-convert\" onclick=\"convertToInteractive('df-71441784-1610-4bf5-8bb8-c9c78ef2dd22')\"\n",
              "              title=\"Convert this dataframe to an interactive table.\"\n",
              "              style=\"display:none;\">\n",
              "        \n",
              "  <svg xmlns=\"http://www.w3.org/2000/svg\" height=\"24px\"viewBox=\"0 0 24 24\"\n",
              "       width=\"24px\">\n",
              "    <path d=\"M0 0h24v24H0V0z\" fill=\"none\"/>\n",
              "    <path d=\"M18.56 5.44l.94 2.06.94-2.06 2.06-.94-2.06-.94-.94-2.06-.94 2.06-2.06.94zm-11 1L8.5 8.5l.94-2.06 2.06-.94-2.06-.94L8.5 2.5l-.94 2.06-2.06.94zm10 10l.94 2.06.94-2.06 2.06-.94-2.06-.94-.94-2.06-.94 2.06-2.06.94z\"/><path d=\"M17.41 7.96l-1.37-1.37c-.4-.4-.92-.59-1.43-.59-.52 0-1.04.2-1.43.59L10.3 9.45l-7.72 7.72c-.78.78-.78 2.05 0 2.83L4 21.41c.39.39.9.59 1.41.59.51 0 1.02-.2 1.41-.59l7.78-7.78 2.81-2.81c.8-.78.8-2.07 0-2.86zM5.41 20L4 18.59l7.72-7.72 1.47 1.35L5.41 20z\"/>\n",
              "  </svg>\n",
              "      </button>\n",
              "      \n",
              "  <style>\n",
              "    .colab-df-container {\n",
              "      display:flex;\n",
              "      flex-wrap:wrap;\n",
              "      gap: 12px;\n",
              "    }\n",
              "\n",
              "    .colab-df-convert {\n",
              "      background-color: #E8F0FE;\n",
              "      border: none;\n",
              "      border-radius: 50%;\n",
              "      cursor: pointer;\n",
              "      display: none;\n",
              "      fill: #1967D2;\n",
              "      height: 32px;\n",
              "      padding: 0 0 0 0;\n",
              "      width: 32px;\n",
              "    }\n",
              "\n",
              "    .colab-df-convert:hover {\n",
              "      background-color: #E2EBFA;\n",
              "      box-shadow: 0px 1px 2px rgba(60, 64, 67, 0.3), 0px 1px 3px 1px rgba(60, 64, 67, 0.15);\n",
              "      fill: #174EA6;\n",
              "    }\n",
              "\n",
              "    [theme=dark] .colab-df-convert {\n",
              "      background-color: #3B4455;\n",
              "      fill: #D2E3FC;\n",
              "    }\n",
              "\n",
              "    [theme=dark] .colab-df-convert:hover {\n",
              "      background-color: #434B5C;\n",
              "      box-shadow: 0px 1px 3px 1px rgba(0, 0, 0, 0.15);\n",
              "      filter: drop-shadow(0px 1px 2px rgba(0, 0, 0, 0.3));\n",
              "      fill: #FFFFFF;\n",
              "    }\n",
              "  </style>\n",
              "\n",
              "      <script>\n",
              "        const buttonEl =\n",
              "          document.querySelector('#df-71441784-1610-4bf5-8bb8-c9c78ef2dd22 button.colab-df-convert');\n",
              "        buttonEl.style.display =\n",
              "          google.colab.kernel.accessAllowed ? 'block' : 'none';\n",
              "\n",
              "        async function convertToInteractive(key) {\n",
              "          const element = document.querySelector('#df-71441784-1610-4bf5-8bb8-c9c78ef2dd22');\n",
              "          const dataTable =\n",
              "            await google.colab.kernel.invokeFunction('convertToInteractive',\n",
              "                                                     [key], {});\n",
              "          if (!dataTable) return;\n",
              "\n",
              "          const docLinkHtml = 'Like what you see? Visit the ' +\n",
              "            '<a target=\"_blank\" href=https://colab.research.google.com/notebooks/data_table.ipynb>data table notebook</a>'\n",
              "            + ' to learn more about interactive tables.';\n",
              "          element.innerHTML = '';\n",
              "          dataTable['output_type'] = 'display_data';\n",
              "          await google.colab.output.renderOutput(dataTable, element);\n",
              "          const docLink = document.createElement('div');\n",
              "          docLink.innerHTML = docLinkHtml;\n",
              "          element.appendChild(docLink);\n",
              "        }\n",
              "      </script>\n",
              "    </div>\n",
              "  </div>\n",
              "  "
            ]
          },
          "metadata": {},
          "execution_count": 43
        }
      ],
      "metadata": {
        "datalore": {
          "type": "CODE",
          "hide_input_from_viewers": false,
          "hide_output_from_viewers": false
        },
        "colab": {
          "base_uri": "https://localhost:8080/",
          "height": 112
        },
        "id": "qAYGoJsECJk8",
        "outputId": "3c141966-bf6b-4687-d693-d7643da4e9c3"
      }
    },
    {
      "cell_type": "code",
      "source": [
        "washingmachines.head(2)"
      ],
      "execution_count": 44,
      "outputs": [
        {
          "output_type": "execute_result",
          "data": {
            "text/plain": [
              "            ID  Brand  Price Load Capacity Drying result Sound level   WiFi  \\\n",
              "0    M-20220-1  Miele   1269          8 kg             B       70 dB   True   \n",
              "1  AEG-20010-9    AEG    653          9 kg             C       68 dB  False   \n",
              "\n",
              "  Energy label  Automated dispensing   Rating  \n",
              "0            A                  True  5 stars  \n",
              "1            B                  True  3 stars  "
            ],
            "text/html": [
              "\n",
              "  <div id=\"df-91ebf530-14eb-457c-ab02-33aa83c52bf3\">\n",
              "    <div class=\"colab-df-container\">\n",
              "      <div>\n",
              "<style scoped>\n",
              "    .dataframe tbody tr th:only-of-type {\n",
              "        vertical-align: middle;\n",
              "    }\n",
              "\n",
              "    .dataframe tbody tr th {\n",
              "        vertical-align: top;\n",
              "    }\n",
              "\n",
              "    .dataframe thead th {\n",
              "        text-align: right;\n",
              "    }\n",
              "</style>\n",
              "<table border=\"1\" class=\"dataframe\">\n",
              "  <thead>\n",
              "    <tr style=\"text-align: right;\">\n",
              "      <th></th>\n",
              "      <th>ID</th>\n",
              "      <th>Brand</th>\n",
              "      <th>Price</th>\n",
              "      <th>Load Capacity</th>\n",
              "      <th>Drying result</th>\n",
              "      <th>Sound level</th>\n",
              "      <th>WiFi</th>\n",
              "      <th>Energy label</th>\n",
              "      <th>Automated dispensing</th>\n",
              "      <th>Rating</th>\n",
              "    </tr>\n",
              "  </thead>\n",
              "  <tbody>\n",
              "    <tr>\n",
              "      <th>0</th>\n",
              "      <td>M-20220-1</td>\n",
              "      <td>Miele</td>\n",
              "      <td>1269</td>\n",
              "      <td>8 kg</td>\n",
              "      <td>B</td>\n",
              "      <td>70 dB</td>\n",
              "      <td>True</td>\n",
              "      <td>A</td>\n",
              "      <td>True</td>\n",
              "      <td>5 stars</td>\n",
              "    </tr>\n",
              "    <tr>\n",
              "      <th>1</th>\n",
              "      <td>AEG-20010-9</td>\n",
              "      <td>AEG</td>\n",
              "      <td>653</td>\n",
              "      <td>9 kg</td>\n",
              "      <td>C</td>\n",
              "      <td>68 dB</td>\n",
              "      <td>False</td>\n",
              "      <td>B</td>\n",
              "      <td>True</td>\n",
              "      <td>3 stars</td>\n",
              "    </tr>\n",
              "  </tbody>\n",
              "</table>\n",
              "</div>\n",
              "      <button class=\"colab-df-convert\" onclick=\"convertToInteractive('df-91ebf530-14eb-457c-ab02-33aa83c52bf3')\"\n",
              "              title=\"Convert this dataframe to an interactive table.\"\n",
              "              style=\"display:none;\">\n",
              "        \n",
              "  <svg xmlns=\"http://www.w3.org/2000/svg\" height=\"24px\"viewBox=\"0 0 24 24\"\n",
              "       width=\"24px\">\n",
              "    <path d=\"M0 0h24v24H0V0z\" fill=\"none\"/>\n",
              "    <path d=\"M18.56 5.44l.94 2.06.94-2.06 2.06-.94-2.06-.94-.94-2.06-.94 2.06-2.06.94zm-11 1L8.5 8.5l.94-2.06 2.06-.94-2.06-.94L8.5 2.5l-.94 2.06-2.06.94zm10 10l.94 2.06.94-2.06 2.06-.94-2.06-.94-.94-2.06-.94 2.06-2.06.94z\"/><path d=\"M17.41 7.96l-1.37-1.37c-.4-.4-.92-.59-1.43-.59-.52 0-1.04.2-1.43.59L10.3 9.45l-7.72 7.72c-.78.78-.78 2.05 0 2.83L4 21.41c.39.39.9.59 1.41.59.51 0 1.02-.2 1.41-.59l7.78-7.78 2.81-2.81c.8-.78.8-2.07 0-2.86zM5.41 20L4 18.59l7.72-7.72 1.47 1.35L5.41 20z\"/>\n",
              "  </svg>\n",
              "      </button>\n",
              "      \n",
              "  <style>\n",
              "    .colab-df-container {\n",
              "      display:flex;\n",
              "      flex-wrap:wrap;\n",
              "      gap: 12px;\n",
              "    }\n",
              "\n",
              "    .colab-df-convert {\n",
              "      background-color: #E8F0FE;\n",
              "      border: none;\n",
              "      border-radius: 50%;\n",
              "      cursor: pointer;\n",
              "      display: none;\n",
              "      fill: #1967D2;\n",
              "      height: 32px;\n",
              "      padding: 0 0 0 0;\n",
              "      width: 32px;\n",
              "    }\n",
              "\n",
              "    .colab-df-convert:hover {\n",
              "      background-color: #E2EBFA;\n",
              "      box-shadow: 0px 1px 2px rgba(60, 64, 67, 0.3), 0px 1px 3px 1px rgba(60, 64, 67, 0.15);\n",
              "      fill: #174EA6;\n",
              "    }\n",
              "\n",
              "    [theme=dark] .colab-df-convert {\n",
              "      background-color: #3B4455;\n",
              "      fill: #D2E3FC;\n",
              "    }\n",
              "\n",
              "    [theme=dark] .colab-df-convert:hover {\n",
              "      background-color: #434B5C;\n",
              "      box-shadow: 0px 1px 3px 1px rgba(0, 0, 0, 0.15);\n",
              "      filter: drop-shadow(0px 1px 2px rgba(0, 0, 0, 0.3));\n",
              "      fill: #FFFFFF;\n",
              "    }\n",
              "  </style>\n",
              "\n",
              "      <script>\n",
              "        const buttonEl =\n",
              "          document.querySelector('#df-91ebf530-14eb-457c-ab02-33aa83c52bf3 button.colab-df-convert');\n",
              "        buttonEl.style.display =\n",
              "          google.colab.kernel.accessAllowed ? 'block' : 'none';\n",
              "\n",
              "        async function convertToInteractive(key) {\n",
              "          const element = document.querySelector('#df-91ebf530-14eb-457c-ab02-33aa83c52bf3');\n",
              "          const dataTable =\n",
              "            await google.colab.kernel.invokeFunction('convertToInteractive',\n",
              "                                                     [key], {});\n",
              "          if (!dataTable) return;\n",
              "\n",
              "          const docLinkHtml = 'Like what you see? Visit the ' +\n",
              "            '<a target=\"_blank\" href=https://colab.research.google.com/notebooks/data_table.ipynb>data table notebook</a>'\n",
              "            + ' to learn more about interactive tables.';\n",
              "          element.innerHTML = '';\n",
              "          dataTable['output_type'] = 'display_data';\n",
              "          await google.colab.output.renderOutput(dataTable, element);\n",
              "          const docLink = document.createElement('div');\n",
              "          docLink.innerHTML = docLinkHtml;\n",
              "          element.appendChild(docLink);\n",
              "        }\n",
              "      </script>\n",
              "    </div>\n",
              "  </div>\n",
              "  "
            ]
          },
          "metadata": {},
          "execution_count": 44
        }
      ],
      "metadata": {
        "datalore": {
          "type": "CODE",
          "hide_input_from_viewers": false,
          "hide_output_from_viewers": false
        },
        "colab": {
          "base_uri": "https://localhost:8080/",
          "height": 112
        },
        "id": "2tAYa7ojCJk9",
        "outputId": "9aed535d-7786-43fc-a837-3e8e04ab6af6"
      }
    },
    {
      "cell_type": "code",
      "source": [
        "washingmachines.columns"
      ],
      "execution_count": 46,
      "outputs": [
        {
          "output_type": "execute_result",
          "data": {
            "text/plain": [
              "Index(['ID', 'Brand', 'Price', 'Load Capacity', 'Drying result', 'Sound level',\n",
              "       'WiFi', 'Energy label', 'Automated dispensing', 'Rating'],\n",
              "      dtype='object')"
            ]
          },
          "metadata": {},
          "execution_count": 46
        }
      ],
      "metadata": {
        "datalore": {
          "type": "CODE",
          "hide_input_from_viewers": false,
          "hide_output_from_viewers": false
        },
        "colab": {
          "base_uri": "https://localhost:8080/"
        },
        "id": "HRxkgQ67CJk9",
        "outputId": "7abc32d0-b7d9-4023-842a-990b986d34f0"
      }
    },
    {
      "cell_type": "code",
      "source": [
        "washingmachines[washingmachines[\"Brand\"]==\"Miele\"]"
      ],
      "execution_count": 45,
      "outputs": [
        {
          "output_type": "execute_result",
          "data": {
            "text/plain": [
              "          ID  Brand  Price Load Capacity Drying result Sound level   WiFi  \\\n",
              "0  M-20220-1  Miele   1269          8 kg             B       70 dB   True   \n",
              "2  M-20210-3  Miele    923          6 kg             B       69 dB  False   \n",
              "\n",
              "  Energy label  Automated dispensing   Rating  \n",
              "0            A                  True  5 stars  \n",
              "2            A                 False  4 stars  "
            ],
            "text/html": [
              "\n",
              "  <div id=\"df-51740683-dc84-479a-8752-969943a0ecc9\">\n",
              "    <div class=\"colab-df-container\">\n",
              "      <div>\n",
              "<style scoped>\n",
              "    .dataframe tbody tr th:only-of-type {\n",
              "        vertical-align: middle;\n",
              "    }\n",
              "\n",
              "    .dataframe tbody tr th {\n",
              "        vertical-align: top;\n",
              "    }\n",
              "\n",
              "    .dataframe thead th {\n",
              "        text-align: right;\n",
              "    }\n",
              "</style>\n",
              "<table border=\"1\" class=\"dataframe\">\n",
              "  <thead>\n",
              "    <tr style=\"text-align: right;\">\n",
              "      <th></th>\n",
              "      <th>ID</th>\n",
              "      <th>Brand</th>\n",
              "      <th>Price</th>\n",
              "      <th>Load Capacity</th>\n",
              "      <th>Drying result</th>\n",
              "      <th>Sound level</th>\n",
              "      <th>WiFi</th>\n",
              "      <th>Energy label</th>\n",
              "      <th>Automated dispensing</th>\n",
              "      <th>Rating</th>\n",
              "    </tr>\n",
              "  </thead>\n",
              "  <tbody>\n",
              "    <tr>\n",
              "      <th>0</th>\n",
              "      <td>M-20220-1</td>\n",
              "      <td>Miele</td>\n",
              "      <td>1269</td>\n",
              "      <td>8 kg</td>\n",
              "      <td>B</td>\n",
              "      <td>70 dB</td>\n",
              "      <td>True</td>\n",
              "      <td>A</td>\n",
              "      <td>True</td>\n",
              "      <td>5 stars</td>\n",
              "    </tr>\n",
              "    <tr>\n",
              "      <th>2</th>\n",
              "      <td>M-20210-3</td>\n",
              "      <td>Miele</td>\n",
              "      <td>923</td>\n",
              "      <td>6 kg</td>\n",
              "      <td>B</td>\n",
              "      <td>69 dB</td>\n",
              "      <td>False</td>\n",
              "      <td>A</td>\n",
              "      <td>False</td>\n",
              "      <td>4 stars</td>\n",
              "    </tr>\n",
              "  </tbody>\n",
              "</table>\n",
              "</div>\n",
              "      <button class=\"colab-df-convert\" onclick=\"convertToInteractive('df-51740683-dc84-479a-8752-969943a0ecc9')\"\n",
              "              title=\"Convert this dataframe to an interactive table.\"\n",
              "              style=\"display:none;\">\n",
              "        \n",
              "  <svg xmlns=\"http://www.w3.org/2000/svg\" height=\"24px\"viewBox=\"0 0 24 24\"\n",
              "       width=\"24px\">\n",
              "    <path d=\"M0 0h24v24H0V0z\" fill=\"none\"/>\n",
              "    <path d=\"M18.56 5.44l.94 2.06.94-2.06 2.06-.94-2.06-.94-.94-2.06-.94 2.06-2.06.94zm-11 1L8.5 8.5l.94-2.06 2.06-.94-2.06-.94L8.5 2.5l-.94 2.06-2.06.94zm10 10l.94 2.06.94-2.06 2.06-.94-2.06-.94-.94-2.06-.94 2.06-2.06.94z\"/><path d=\"M17.41 7.96l-1.37-1.37c-.4-.4-.92-.59-1.43-.59-.52 0-1.04.2-1.43.59L10.3 9.45l-7.72 7.72c-.78.78-.78 2.05 0 2.83L4 21.41c.39.39.9.59 1.41.59.51 0 1.02-.2 1.41-.59l7.78-7.78 2.81-2.81c.8-.78.8-2.07 0-2.86zM5.41 20L4 18.59l7.72-7.72 1.47 1.35L5.41 20z\"/>\n",
              "  </svg>\n",
              "      </button>\n",
              "      \n",
              "  <style>\n",
              "    .colab-df-container {\n",
              "      display:flex;\n",
              "      flex-wrap:wrap;\n",
              "      gap: 12px;\n",
              "    }\n",
              "\n",
              "    .colab-df-convert {\n",
              "      background-color: #E8F0FE;\n",
              "      border: none;\n",
              "      border-radius: 50%;\n",
              "      cursor: pointer;\n",
              "      display: none;\n",
              "      fill: #1967D2;\n",
              "      height: 32px;\n",
              "      padding: 0 0 0 0;\n",
              "      width: 32px;\n",
              "    }\n",
              "\n",
              "    .colab-df-convert:hover {\n",
              "      background-color: #E2EBFA;\n",
              "      box-shadow: 0px 1px 2px rgba(60, 64, 67, 0.3), 0px 1px 3px 1px rgba(60, 64, 67, 0.15);\n",
              "      fill: #174EA6;\n",
              "    }\n",
              "\n",
              "    [theme=dark] .colab-df-convert {\n",
              "      background-color: #3B4455;\n",
              "      fill: #D2E3FC;\n",
              "    }\n",
              "\n",
              "    [theme=dark] .colab-df-convert:hover {\n",
              "      background-color: #434B5C;\n",
              "      box-shadow: 0px 1px 3px 1px rgba(0, 0, 0, 0.15);\n",
              "      filter: drop-shadow(0px 1px 2px rgba(0, 0, 0, 0.3));\n",
              "      fill: #FFFFFF;\n",
              "    }\n",
              "  </style>\n",
              "\n",
              "      <script>\n",
              "        const buttonEl =\n",
              "          document.querySelector('#df-51740683-dc84-479a-8752-969943a0ecc9 button.colab-df-convert');\n",
              "        buttonEl.style.display =\n",
              "          google.colab.kernel.accessAllowed ? 'block' : 'none';\n",
              "\n",
              "        async function convertToInteractive(key) {\n",
              "          const element = document.querySelector('#df-51740683-dc84-479a-8752-969943a0ecc9');\n",
              "          const dataTable =\n",
              "            await google.colab.kernel.invokeFunction('convertToInteractive',\n",
              "                                                     [key], {});\n",
              "          if (!dataTable) return;\n",
              "\n",
              "          const docLinkHtml = 'Like what you see? Visit the ' +\n",
              "            '<a target=\"_blank\" href=https://colab.research.google.com/notebooks/data_table.ipynb>data table notebook</a>'\n",
              "            + ' to learn more about interactive tables.';\n",
              "          element.innerHTML = '';\n",
              "          dataTable['output_type'] = 'display_data';\n",
              "          await google.colab.output.renderOutput(dataTable, element);\n",
              "          const docLink = document.createElement('div');\n",
              "          docLink.innerHTML = docLinkHtml;\n",
              "          element.appendChild(docLink);\n",
              "        }\n",
              "      </script>\n",
              "    </div>\n",
              "  </div>\n",
              "  "
            ]
          },
          "metadata": {},
          "execution_count": 45
        }
      ],
      "metadata": {
        "datalore": {
          "type": "CODE",
          "hide_input_from_viewers": false,
          "hide_output_from_viewers": false
        },
        "colab": {
          "base_uri": "https://localhost:8080/",
          "height": 112
        },
        "id": "T7X3CM9iCJk9",
        "outputId": "8ea7bde6-977d-4a19-d4da-875de9519da8"
      }
    },
    {
      "cell_type": "markdown",
      "source": [
        "Next up, we want to somehow calculate the best washing machine. Therefore we are going to replace each column with a numeric value. For some of the columns we need a conversion table, for other we need a formula. In the next code block you see some of the conversions. After that the different code blocks show for each column what we are going to do.\n",
        "- Brand: Some brands get higher preference than others. Check the conversion object\n",
        "- Price: Need to normalize it between 0 and 1, notice the input parameter of the function\n",
        "- Load Capacity: Strip kg from the input\n",
        "- Drying result: Replace characters with a number, A being the highest and E being lowest\n",
        "- Sound level: Lower sound is better\n",
        "- Wifi: Replace boolean with 0 for False, 1 for True\n",
        "- Energy label: Same as drying result\n",
        "- Automated dispensing: Replace boolean with 0 for False, 1 for True\n",
        "- Rating: 0-3 stars is 0, 4 stars is 0.5 and 5 stars is 1\n",
        "\n",
        "Implement all functions in the code block below. "
      ],
      "metadata": {
        "datalore": {
          "type": "MD",
          "hide_input_from_viewers": false,
          "hide_output_from_viewers": false
        },
        "id": "wS0_oD2SCJk-"
      }
    },
    {
      "cell_type": "code",
      "source": [
        "def convert_brand(brand):\n",
        "    brands = {\n",
        "        \"Miele\": 1,\n",
        "        \"Bosch\": 0.9,\n",
        "        \"AEG\": 0.2\n",
        "    }\n",
        "\n",
        "    return brands.get(brand)\n",
        "\n",
        "def convert_rating(stars):\n",
        "    # Use the strip function to remove specific characters\n",
        "    return int(stars.strip(\" stars\"))\n",
        "\n",
        "def convert_load_capacity(weight):\n",
        "    # Use the strip function to remove specific characters\n",
        "    return int(weight.strip(\" kg\"))\n",
        "\n",
        "def convert_drying(drying):\n",
        "    # Use ord to replace a character with a number, Z is the highest number, A should return the higher score\n",
        "    return -abs(ord(drying)) + 70\n",
        "\n",
        "def convert_sound(sound):\n",
        "    # Use the strip function to remove specific characters\n",
        "    return int(sound.strip(\" dB\"))\n",
        "\n",
        "def convert_boolean(value):\n",
        "    # Return 1 if true, 0 otherwise\n",
        "    return 1 if value else 0\n",
        "\n",
        "def normalize_price(df):\n",
        "    # We need to normalize the values of the price column. \n",
        "    # Tip: you can do operations on complete columns: df[column_name] + 1 adds 1 to all values in the column\n",
        "    # Tip: notice the function receives the complete DataFrame\n",
        "    max_value = df['Price'].max()\n",
        "    min_value = df['Price'].min()\n",
        "    return (df['Price'] - min_value) / (max_value - min_value)\n"
      ],
      "execution_count": 76,
      "outputs": [],
      "metadata": {
        "datalore": {
          "type": "CODE",
          "hide_input_from_viewers": false,
          "hide_output_from_viewers": false
        },
        "id": "JZbgNM5gCJk-"
      }
    },
    {
      "cell_type": "markdown",
      "source": [
        "Use the code block below to see if all the functions work"
      ],
      "metadata": {
        "datalore": {
          "type": "MD",
          "hide_input_from_viewers": false,
          "hide_output_from_viewers": false
        },
        "id": "37mwKpxpCJk-"
      }
    },
    {
      "cell_type": "code",
      "source": [
        "wm_copy = washingmachines.copy()\n",
        "\n",
        "wm_copy[\"Brand\"] = washingmachines[\"Brand\"].apply(convert_brand)\n",
        "wm_copy[\"Price\"] = normalize_price(wm_copy)\n",
        "wm_copy[\"Load Capacity\"] = washingmachines[\"Load Capacity\"].apply(convert_load_capacity)\n",
        "wm_copy[\"Drying result\"] = washingmachines[\"Drying result\"].apply(convert_drying)\n",
        "wm_copy[\"Sound level\"] = washingmachines[\"Sound level\"].apply(convert_sound)\n",
        "wm_copy[\"WiFi\"] = washingmachines[\"WiFi\"].apply(convert_boolean)\n",
        "wm_copy[\"Energy label\"] = washingmachines[\"Energy label\"].apply(convert_drying)\n",
        "wm_copy[\"Automated dispensing\"] = washingmachines[\"Automated dispensing\"].apply(convert_boolean)\n",
        "wm_copy[\"Rating\"] = washingmachines[\"Rating\"].apply(convert_rating)\n",
        "\n",
        "wm_copy.head()"
      ],
      "execution_count": 77,
      "outputs": [
        {
          "output_type": "execute_result",
          "data": {
            "text/plain": [
              "            ID  Brand     Price  Load Capacity  Drying result  Sound level  \\\n",
              "0    M-20220-1    1.0  1.000000              8              4           70   \n",
              "1  AEG-20010-9    0.2  0.000000              9              3           68   \n",
              "2    M-20210-3    1.0  0.438312              6              4           69   \n",
              "3    B-20221-7    0.9  0.482143              8              4           70   \n",
              "\n",
              "   WiFi  Energy label  Automated dispensing  Rating  \n",
              "0     1             5                     1       5  \n",
              "1     0             4                     1       3  \n",
              "2     0             5                     0       4  \n",
              "3     0             5                     1       5  "
            ],
            "text/html": [
              "\n",
              "  <div id=\"df-85fe20b0-e3f8-4bc7-ad33-5002cd7eb9d3\">\n",
              "    <div class=\"colab-df-container\">\n",
              "      <div>\n",
              "<style scoped>\n",
              "    .dataframe tbody tr th:only-of-type {\n",
              "        vertical-align: middle;\n",
              "    }\n",
              "\n",
              "    .dataframe tbody tr th {\n",
              "        vertical-align: top;\n",
              "    }\n",
              "\n",
              "    .dataframe thead th {\n",
              "        text-align: right;\n",
              "    }\n",
              "</style>\n",
              "<table border=\"1\" class=\"dataframe\">\n",
              "  <thead>\n",
              "    <tr style=\"text-align: right;\">\n",
              "      <th></th>\n",
              "      <th>ID</th>\n",
              "      <th>Brand</th>\n",
              "      <th>Price</th>\n",
              "      <th>Load Capacity</th>\n",
              "      <th>Drying result</th>\n",
              "      <th>Sound level</th>\n",
              "      <th>WiFi</th>\n",
              "      <th>Energy label</th>\n",
              "      <th>Automated dispensing</th>\n",
              "      <th>Rating</th>\n",
              "    </tr>\n",
              "  </thead>\n",
              "  <tbody>\n",
              "    <tr>\n",
              "      <th>0</th>\n",
              "      <td>M-20220-1</td>\n",
              "      <td>1.0</td>\n",
              "      <td>1.000000</td>\n",
              "      <td>8</td>\n",
              "      <td>4</td>\n",
              "      <td>70</td>\n",
              "      <td>1</td>\n",
              "      <td>5</td>\n",
              "      <td>1</td>\n",
              "      <td>5</td>\n",
              "    </tr>\n",
              "    <tr>\n",
              "      <th>1</th>\n",
              "      <td>AEG-20010-9</td>\n",
              "      <td>0.2</td>\n",
              "      <td>0.000000</td>\n",
              "      <td>9</td>\n",
              "      <td>3</td>\n",
              "      <td>68</td>\n",
              "      <td>0</td>\n",
              "      <td>4</td>\n",
              "      <td>1</td>\n",
              "      <td>3</td>\n",
              "    </tr>\n",
              "    <tr>\n",
              "      <th>2</th>\n",
              "      <td>M-20210-3</td>\n",
              "      <td>1.0</td>\n",
              "      <td>0.438312</td>\n",
              "      <td>6</td>\n",
              "      <td>4</td>\n",
              "      <td>69</td>\n",
              "      <td>0</td>\n",
              "      <td>5</td>\n",
              "      <td>0</td>\n",
              "      <td>4</td>\n",
              "    </tr>\n",
              "    <tr>\n",
              "      <th>3</th>\n",
              "      <td>B-20221-7</td>\n",
              "      <td>0.9</td>\n",
              "      <td>0.482143</td>\n",
              "      <td>8</td>\n",
              "      <td>4</td>\n",
              "      <td>70</td>\n",
              "      <td>0</td>\n",
              "      <td>5</td>\n",
              "      <td>1</td>\n",
              "      <td>5</td>\n",
              "    </tr>\n",
              "  </tbody>\n",
              "</table>\n",
              "</div>\n",
              "      <button class=\"colab-df-convert\" onclick=\"convertToInteractive('df-85fe20b0-e3f8-4bc7-ad33-5002cd7eb9d3')\"\n",
              "              title=\"Convert this dataframe to an interactive table.\"\n",
              "              style=\"display:none;\">\n",
              "        \n",
              "  <svg xmlns=\"http://www.w3.org/2000/svg\" height=\"24px\"viewBox=\"0 0 24 24\"\n",
              "       width=\"24px\">\n",
              "    <path d=\"M0 0h24v24H0V0z\" fill=\"none\"/>\n",
              "    <path d=\"M18.56 5.44l.94 2.06.94-2.06 2.06-.94-2.06-.94-.94-2.06-.94 2.06-2.06.94zm-11 1L8.5 8.5l.94-2.06 2.06-.94-2.06-.94L8.5 2.5l-.94 2.06-2.06.94zm10 10l.94 2.06.94-2.06 2.06-.94-2.06-.94-.94-2.06-.94 2.06-2.06.94z\"/><path d=\"M17.41 7.96l-1.37-1.37c-.4-.4-.92-.59-1.43-.59-.52 0-1.04.2-1.43.59L10.3 9.45l-7.72 7.72c-.78.78-.78 2.05 0 2.83L4 21.41c.39.39.9.59 1.41.59.51 0 1.02-.2 1.41-.59l7.78-7.78 2.81-2.81c.8-.78.8-2.07 0-2.86zM5.41 20L4 18.59l7.72-7.72 1.47 1.35L5.41 20z\"/>\n",
              "  </svg>\n",
              "      </button>\n",
              "      \n",
              "  <style>\n",
              "    .colab-df-container {\n",
              "      display:flex;\n",
              "      flex-wrap:wrap;\n",
              "      gap: 12px;\n",
              "    }\n",
              "\n",
              "    .colab-df-convert {\n",
              "      background-color: #E8F0FE;\n",
              "      border: none;\n",
              "      border-radius: 50%;\n",
              "      cursor: pointer;\n",
              "      display: none;\n",
              "      fill: #1967D2;\n",
              "      height: 32px;\n",
              "      padding: 0 0 0 0;\n",
              "      width: 32px;\n",
              "    }\n",
              "\n",
              "    .colab-df-convert:hover {\n",
              "      background-color: #E2EBFA;\n",
              "      box-shadow: 0px 1px 2px rgba(60, 64, 67, 0.3), 0px 1px 3px 1px rgba(60, 64, 67, 0.15);\n",
              "      fill: #174EA6;\n",
              "    }\n",
              "\n",
              "    [theme=dark] .colab-df-convert {\n",
              "      background-color: #3B4455;\n",
              "      fill: #D2E3FC;\n",
              "    }\n",
              "\n",
              "    [theme=dark] .colab-df-convert:hover {\n",
              "      background-color: #434B5C;\n",
              "      box-shadow: 0px 1px 3px 1px rgba(0, 0, 0, 0.15);\n",
              "      filter: drop-shadow(0px 1px 2px rgba(0, 0, 0, 0.3));\n",
              "      fill: #FFFFFF;\n",
              "    }\n",
              "  </style>\n",
              "\n",
              "      <script>\n",
              "        const buttonEl =\n",
              "          document.querySelector('#df-85fe20b0-e3f8-4bc7-ad33-5002cd7eb9d3 button.colab-df-convert');\n",
              "        buttonEl.style.display =\n",
              "          google.colab.kernel.accessAllowed ? 'block' : 'none';\n",
              "\n",
              "        async function convertToInteractive(key) {\n",
              "          const element = document.querySelector('#df-85fe20b0-e3f8-4bc7-ad33-5002cd7eb9d3');\n",
              "          const dataTable =\n",
              "            await google.colab.kernel.invokeFunction('convertToInteractive',\n",
              "                                                     [key], {});\n",
              "          if (!dataTable) return;\n",
              "\n",
              "          const docLinkHtml = 'Like what you see? Visit the ' +\n",
              "            '<a target=\"_blank\" href=https://colab.research.google.com/notebooks/data_table.ipynb>data table notebook</a>'\n",
              "            + ' to learn more about interactive tables.';\n",
              "          element.innerHTML = '';\n",
              "          dataTable['output_type'] = 'display_data';\n",
              "          await google.colab.output.renderOutput(dataTable, element);\n",
              "          const docLink = document.createElement('div');\n",
              "          docLink.innerHTML = docLinkHtml;\n",
              "          element.appendChild(docLink);\n",
              "        }\n",
              "      </script>\n",
              "    </div>\n",
              "  </div>\n",
              "  "
            ]
          },
          "metadata": {},
          "execution_count": 77
        }
      ],
      "metadata": {
        "datalore": {
          "type": "CODE",
          "hide_input_from_viewers": false,
          "hide_output_from_viewers": false
        },
        "colab": {
          "base_uri": "https://localhost:8080/",
          "height": 175
        },
        "id": "nbJoyXVtCJk_",
        "outputId": "8fa2d74e-a577-4dd3-fd81-9bb15434440b"
      }
    },
    {
      "cell_type": "markdown",
      "source": [
        "With the new data set, we can implement the formula to sum all calculated parameters with their respective weights. With vectors we can use the dot product to accomplish the task. Read the following code block and try to understand what the code does."
      ],
      "metadata": {
        "datalore": {
          "type": "MD",
          "hide_input_from_viewers": false,
          "hide_output_from_viewers": false
        },
        "id": "E5LSCzYWCJk_"
      }
    },
    {
      "cell_type": "code",
      "source": [
        "weights = [1, 0.8, 0.5, 0.7, 0.7, 1, 0.4, 1, 1]\n",
        "\n",
        "calc_df = wm_copy.drop('ID', axis=1)\n",
        "\n",
        "best_washingmachine = calc_df.dot(weights).idxmax()\n",
        "print(f'The winner is {washingmachines[\"ID\"][best_washingmachine]}')"
      ],
      "execution_count": 78,
      "outputs": [
        {
          "output_type": "stream",
          "name": "stdout",
          "text": [
            "The winner is M-20220-1\n"
          ]
        }
      ],
      "metadata": {
        "datalore": {
          "type": "CODE",
          "hide_input_from_viewers": false,
          "hide_output_from_viewers": false
        },
        "colab": {
          "base_uri": "https://localhost:8080/"
        },
        "id": "8JPn2DWOCJk_",
        "outputId": "aea466aa-a935-410e-9a88-9169e14739af"
      }
    }
  ],
  "metadata": {
    "datalore": {
      "version": 1,
      "computation_mode": "JUPYTER",
      "package_manager": "pip",
      "base_environment": "default",
      "packages": []
    },
    "colab": {
      "name": "PythonCrashCourse.ipynb",
      "provenance": [],
      "collapsed_sections": [],
      "include_colab_link": true
    },
    "language_info": {
      "name": "python"
    },
    "kernelspec": {
      "name": "python3",
      "display_name": "Python 3"
    },
    "gpuClass": "standard"
  },
  "nbformat": 4,
  "nbformat_minor": 0
}